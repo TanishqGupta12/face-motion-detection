{
 "cells": [
  {
   "cell_type": "code",
   "execution_count": 1,
   "id": "9f3af7ae-1dcd-48b3-946a-a69c5dc30df9",
   "metadata": {},
   "outputs": [],
   "source": [
    "from tensorflow.keras.utils import to_categorical\n",
    "from tensorflow.keras.preprocessing.image import load_img\n",
    "from tensorflow.keras.models import Sequential\n",
    "\n",
    "from keras.layers import Dense, Conv2D, Dropout, Flatten, MaxPooling2D\n",
    "import os\n",
    "import pandas as pd\n",
    "# print(pd.__version__)\n",
    "import numpy as np"
   ]
  },
  {
   "cell_type": "code",
   "execution_count": 2,
   "id": "d6b0f894-e3ce-4534-933d-cfc054e5a486",
   "metadata": {},
   "outputs": [],
   "source": [
    "TEST = 'data\\\\test'\n",
    "TRAIN = 'data\\\\train'"
   ]
  },
  {
   "cell_type": "code",
   "execution_count": 3,
   "id": "d7f0f72e-0ee7-4f37-acbe-f7004762300d",
   "metadata": {},
   "outputs": [],
   "source": [
    "def dataframe(dir):\n",
    "    image_paths = []\n",
    "    labels = []\n",
    "    # print( os.listdir(dir))\n",
    "    for label in os.listdir(dir):\n",
    "        # print(label)\n",
    "        path = os.path.join(dir , label)\n",
    "        for image_name in os.listdir(path):\n",
    "            # print(image_name)\n",
    "            image_paths.append(os.path.join(path ,image_name))\n",
    "            labels.append(label)\n",
    "    return image_paths , labels"
   ]
  },
  {
   "cell_type": "code",
   "execution_count": 4,
   "id": "cd697d0e-6c97-4125-95c2-970edcfbbfb1",
   "metadata": {},
   "outputs": [
    {
     "name": "stdout",
     "output_type": "stream",
     "text": [
      "0              data\\train\\angry\\im0.png\n",
      "1              data\\train\\angry\\im1.png\n",
      "2             data\\train\\angry\\im10.png\n",
      "3            data\\train\\angry\\im100.png\n",
      "4           data\\train\\angry\\im1000.png\n",
      "                      ...              \n",
      "28704    data\\train\\surprised\\im995.png\n",
      "28705    data\\train\\surprised\\im996.png\n",
      "28706    data\\train\\surprised\\im997.png\n",
      "28707    data\\train\\surprised\\im998.png\n",
      "28708    data\\train\\surprised\\im999.png\n",
      "Name: image, Length: 28709, dtype: object\n",
      "0            angry\n",
      "1            angry\n",
      "2            angry\n",
      "3            angry\n",
      "4            angry\n",
      "           ...    \n",
      "28704    surprised\n",
      "28705    surprised\n",
      "28706    surprised\n",
      "28707    surprised\n",
      "28708    surprised\n",
      "Name: label, Length: 28709, dtype: object\n"
     ]
    }
   ],
   "source": [
    "# dataframe(TEST)\n",
    "train = pd.DataFrame()\n",
    "train['image'] , train['label'] = dataframe(TRAIN)\n",
    "print(train['image'])\n",
    "print(train['label'])"
   ]
  },
  {
   "cell_type": "code",
   "execution_count": 5,
   "id": "eeea22ee-57cd-4cbc-9af4-5c6d6bb245d7",
   "metadata": {},
   "outputs": [
    {
     "name": "stdout",
     "output_type": "stream",
     "text": [
      "0            data\\test\\angry\\im0.png\n",
      "1            data\\test\\angry\\im1.png\n",
      "2           data\\test\\angry\\im10.png\n",
      "3          data\\test\\angry\\im100.png\n",
      "4          data\\test\\angry\\im101.png\n",
      "                    ...             \n",
      "7173    data\\test\\surprised\\im95.png\n",
      "7174    data\\test\\surprised\\im96.png\n",
      "7175    data\\test\\surprised\\im97.png\n",
      "7176    data\\test\\surprised\\im98.png\n",
      "7177    data\\test\\surprised\\im99.png\n",
      "Name: image, Length: 7178, dtype: object\n",
      "0           angry\n",
      "1           angry\n",
      "2           angry\n",
      "3           angry\n",
      "4           angry\n",
      "          ...    \n",
      "7173    surprised\n",
      "7174    surprised\n",
      "7175    surprised\n",
      "7176    surprised\n",
      "7177    surprised\n",
      "Name: label, Length: 7178, dtype: object\n"
     ]
    }
   ],
   "source": [
    "teset = pd.DataFrame()\n",
    "teset['image'] , teset['label'] = dataframe(TEST)\n",
    "print(teset['image'])\n",
    "print(teset['label'])"
   ]
  },
  {
   "cell_type": "code",
   "execution_count": 6,
   "id": "e173d265-f4aa-4fcd-8c84-6de0cc675947",
   "metadata": {},
   "outputs": [],
   "source": [
    "from tqdm.notebook import tqdm"
   ]
  },
  {
   "cell_type": "code",
   "execution_count": 7,
   "id": "43fed375-d191-4c7b-b309-a47ed2374dc0",
   "metadata": {},
   "outputs": [],
   "source": [
    "def features_exact(images):\n",
    "    features=[]\n",
    "    for image in tqdm(images):\n",
    "        img = load_imag(image , grayscale =true)\n",
    "        img = np.array(img)\n",
    "        features.append(img)\n",
    "    features = npm.array(features)\n",
    "    features = features.reshape(len(features), 48 ,48 ,1)\n",
    "    return features"
   ]
  },
  {
   "cell_type": "code",
   "execution_count": null,
   "id": "abf988a9-6760-43ed-a6db-a121c2b9aa21",
   "metadata": {},
   "outputs": [],
   "source": []
  }
 ],
 "metadata": {
  "kernelspec": {
   "display_name": "Python 3 (ipykernel)",
   "language": "python",
   "name": "python3"
  },
  "language_info": {
   "codemirror_mode": {
    "name": "ipython",
    "version": 3
   },
   "file_extension": ".py",
   "mimetype": "text/x-python",
   "name": "python",
   "nbconvert_exporter": "python",
   "pygments_lexer": "ipython3",
   "version": "3.12.3"
  }
 },
 "nbformat": 4,
 "nbformat_minor": 5
}
