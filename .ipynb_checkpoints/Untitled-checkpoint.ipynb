{
 "cells": [
  {
   "cell_type": "code",
   "execution_count": 11,
   "id": "9f3af7ae-1dcd-48b3-946a-a69c5dc30df9",
   "metadata": {},
   "outputs": [
    {
     "name": "stdout",
     "output_type": "stream",
     "text": [
      "2.2.3\n"
     ]
    }
   ],
   "source": [
    "from tensorflow.keras.utils import to_categorical\n",
    "from tensorflow.keras.preprocessing.image import load_img\n",
    "from tensorflow.keras.models import Sequential\n",
    "\n",
    "from keras.layers import Dense, Conv2D, Dropout, Flatten, MaxPooling2D\n",
    "import os\n",
    "import pandas as pd\n",
    "# print(pd.__version__)\n",
    "import numpy as np"
   ]
  },
  {
   "cell_type": "code",
   "execution_count": null,
   "id": "d6b0f894-e3ce-4534-933d-cfc054e5a486",
   "metadata": {},
   "outputs": [],
   "source": [
    "TEST = 'data\\test'\n",
    "TRAIN = 'data\\train'"
   ]
  },
  {
   "cell_type": "code",
   "execution_count": null,
   "id": "d7f0f72e-0ee7-4f37-acbe-f7004762300d",
   "metadata": {},
   "outputs": [],
   "source": [
    "def dataframe(dir):\n",
    "    image_paths = []\n",
    "    labels = []\n",
    "    for label in os.listdir(dir):\n",
    "        for image_name in os.listdir(os.path.join(dir , label)):\n",
    "            print(image_name}"
   ]
  }
 ],
 "metadata": {
  "kernelspec": {
   "display_name": "Python 3 (ipykernel)",
   "language": "python",
   "name": "python3"
  },
  "language_info": {
   "codemirror_mode": {
    "name": "ipython",
    "version": 3
   },
   "file_extension": ".py",
   "mimetype": "text/x-python",
   "name": "python",
   "nbconvert_exporter": "python",
   "pygments_lexer": "ipython3",
   "version": "3.12.3"
  }
 },
 "nbformat": 4,
 "nbformat_minor": 5
}
